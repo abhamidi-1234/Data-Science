{
  "nbformat": 4,
  "nbformat_minor": 0,
  "metadata": {
    "colab": {
      "provenance": []
    },
    "kernelspec": {
      "name": "python3",
      "display_name": "Python 3"
    },
    "language_info": {
      "name": "python"
    }
  },
  "cells": [
    {
      "cell_type": "markdown",
      "source": [
        "## Code on my Kaggle profile - https://www.kaggle.com/code/abhishekbhamidipati/pneumonia-classification-using-chest-x-rays/notebook"
      ],
      "metadata": {
        "id": "bkDI1t0I7jOT"
      }
    }
  ]
}